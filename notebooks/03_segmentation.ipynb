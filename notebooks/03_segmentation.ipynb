{
  "nbformat": 4,
  "nbformat_minor": 5,
  "metadata": {},
  "cells": [
    {
      "id": "4b4f1aea",
      "cell_type": "markdown",
      "source": "# Segmentation des Clients\n\nCe notebook montre l'application des techniques de clustering pour segmenter les clients de Tunisie Telecom.",
      "metadata": {}
    },
    {
      "id": "7139a652",
      "cell_type": "code",
      "metadata": {},
      "execution_count": null,
      "source": "# Import des biblioth\u00e8ques n\u00e9cessaires\nimport pandas as pd\nimport numpy as np\nfrom sklearn.cluster import KMeans\nfrom sklearn.metrics import silhouette_score, calinski_harabasz_score\nimport matplotlib.pyplot as plt\nimport seaborn as sns\nfrom sklearn.decomposition import PCA\n\n# Configuration de l'affichage\n%matplotlib inline\nplt.style.use('seaborn')\npd.set_option('display.max_columns', None)",
      "outputs": []
    },
    {
      "id": "0ea82f9a",
      "cell_type": "markdown",
      "source": "## 1. Chargement des donn\u00e9es pr\u00e9trait\u00e9es",
      "metadata": {}
    },
    {
      "id": "58686792",
      "cell_type": "code",
      "metadata": {},
      "execution_count": null,
      "source": "# Chargement des donn\u00e9es pr\u00e9trait\u00e9es\ndf = pd.read_csv('../data/processed/donnees_pretraitees.csv')\n\n# Affichage des premi\u00e8res lignes\nprint(\"Donn\u00e9es pr\u00e9trait\u00e9es :\")\ndisplay(df.head())",
      "outputs": []
    },
    {
      "id": "e402568c",
      "cell_type": "markdown",
      "source": "## 2. D\u00e9termination du nombre optimal de clusters",
      "metadata": {}
    },
    {
      "id": "1e839c26",
      "cell_type": "code",
      "metadata": {},
      "execution_count": null,
      "source": "# Test de diff\u00e9rents nombres de clusters\nn_clusters_range = range(2, 11)\nsilhouette_scores = []\ncalinski_scores = []\n\nfor n_clusters in n_clusters_range:\n    kmeans = KMeans(n_clusters=n_clusters, random_state=42)\n    cluster_labels = kmeans.fit_predict(df)\n    \n    silhouette_scores.append(silhouette_score(df, cluster_labels))\n    calinski_scores.append(calinski_harabasz_score(df, cluster_labels))\n\n# Visualisation des scores\nfig, (ax1, ax2) = plt.subplots(1, 2, figsize=(15, 5))\n\nax1.plot(list(n_clusters_range), silhouette_scores, 'bo-')\nax1.set_xlabel('Nombre de clusters')\nax1.set_ylabel('Score de silhouette')\nax1.set_title('Score de silhouette par nombre de clusters')\n\nax2.plot(list(n_clusters_range), calinski_scores, 'ro-')\nax2.set_xlabel('Nombre de clusters')\nax2.set_ylabel('Score de Calinski-Harabasz')\nax2.set_title('Score de Calinski-Harabasz par nombre de clusters')\n\nplt.tight_layout()\nplt.show()",
      "outputs": []
    },
    {
      "id": "1270fdc7",
      "cell_type": "markdown",
      "source": "## 3. Application du clustering",
      "metadata": {}
    },
    {
      "id": "fcfb77a6",
      "cell_type": "code",
      "metadata": {},
      "execution_count": null,
      "source": "# Application du K-means avec le nombre optimal de clusters\nn_clusters = 5  # \u00c0 ajuster selon les r\u00e9sultats pr\u00e9c\u00e9dents\nkmeans = KMeans(n_clusters=n_clusters, random_state=42)\ndf['cluster'] = kmeans.fit_predict(df)\n\n# Affichage des centres des clusters\nprint(\"Centres des clusters :\")\ndisplay(pd.DataFrame(kmeans.cluster_centers_, columns=df.columns[:-1]))",
      "outputs": []
    },
    {
      "id": "d0496b23",
      "cell_type": "markdown",
      "source": "## 4. Visualisation des clusters",
      "metadata": {}
    },
    {
      "id": "2a7cdc92",
      "cell_type": "code",
      "metadata": {},
      "execution_count": null,
      "source": "# R\u00e9duction de dimensionnalit\u00e9 avec PCA\npca = PCA(n_components=2)\ndf_pca = pca.fit_transform(df.drop('cluster', axis=1))\n\n# Visualisation des clusters en 2D\nplt.figure(figsize=(10, 8))\nscatter = plt.scatter(df_pca[:, 0], df_pca[:, 1], c=df['cluster'], cmap='viridis')\nplt.xlabel('Premi\u00e8re composante principale')\nplt.ylabel('Deuxi\u00e8me composante principale')\nplt.title('Visualisation des clusters en 2D')\nplt.colorbar(scatter)\nplt.show()",
      "outputs": []
    },
    {
      "id": "93508c0f",
      "cell_type": "markdown",
      "source": "## 5. Analyse des profils des clusters",
      "metadata": {}
    },
    {
      "id": "12ffcfd4",
      "cell_type": "code",
      "metadata": {},
      "execution_count": null,
      "source": "# Statistiques par cluster\nprint(\"Statistiques par cluster :\")\ndisplay(df.groupby('cluster').mean())\n\n# Taille des clusters\nprint(\"\\nTaille des clusters :\")\ndisplay(df['cluster'].value_counts().sort_index())",
      "outputs": []
    }
  ]
}