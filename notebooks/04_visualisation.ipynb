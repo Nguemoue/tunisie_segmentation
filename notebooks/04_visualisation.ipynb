{
  "nbformat": 4,
  "nbformat_minor": 5,
  "metadata": {},
  "cells": [
    {
      "id": "da14f26d",
      "cell_type": "markdown",
      "source": "# Visualisation des R\u00e9sultats de Segmentation\n\nCe notebook montre comment cr\u00e9er des visualisations d\u00e9taill\u00e9es des r\u00e9sultats de segmentation.",
      "metadata": {}
    },
    {
      "id": "b7916e1a",
      "cell_type": "code",
      "metadata": {},
      "execution_count": null,
      "source": "# Import des biblioth\u00e8ques n\u00e9cessaires\nimport pandas as pd\nimport numpy as np\nimport matplotlib.pyplot as plt\nimport seaborn as sns\nimport plotly.express as px\nimport plotly.graph_objects as go\nfrom plotly.subplots import make_subplots\n\n# Configuration de l'affichage\n%matplotlib inline\nplt.style.use('seaborn')\npd.set_option('display.max_columns', None)",
      "outputs": []
    },
    {
      "id": "f18f5584",
      "cell_type": "markdown",
      "source": "## 1. Chargement des donn\u00e9es segment\u00e9es",
      "metadata": {}
    },
    {
      "id": "d9203127",
      "cell_type": "code",
      "metadata": {},
      "execution_count": null,
      "source": "# Chargement des donn\u00e9es avec les clusters\ndf = pd.read_csv('../data/processed/donnees_pretraitees.csv')\ndf['cluster'] = pd.read_csv('../data/processed/clusters.csv')['cluster']\n\n# Affichage des premi\u00e8res lignes\nprint(\"Donn\u00e9es segment\u00e9es :\")\ndisplay(df.head())",
      "outputs": []
    },
    {
      "id": "c57963aa",
      "cell_type": "markdown",
      "source": "## 2. Distribution des clusters",
      "metadata": {}
    },
    {
      "id": "7fb7c59f",
      "cell_type": "code",
      "metadata": {},
      "execution_count": null,
      "source": "# Cr\u00e9ation du graphique de distribution des clusters\nfig = px.pie(df, names='cluster', title='Distribution des clusters')\nfig.update_traces(textposition='inside', textinfo='percent+label')\nfig.show()",
      "outputs": []
    },
    {
      "id": "eebce892",
      "cell_type": "markdown",
      "source": "## 3. Profils des clusters",
      "metadata": {}
    },
    {
      "id": "6b9268e9",
      "cell_type": "code",
      "metadata": {},
      "execution_count": null,
      "source": "# Calcul des moyennes par cluster\ncluster_means = df.groupby('cluster').mean()\n\n# Cr\u00e9ation du heatmap des profils\nplt.figure(figsize=(12, 8))\nsns.heatmap(cluster_means, annot=True, cmap='YlOrRd', center=0)\nplt.title('Profils des clusters')\nplt.show()",
      "outputs": []
    },
    {
      "id": "a5d4bc49",
      "cell_type": "markdown",
      "source": "## 4. Visualisation interactive des caract\u00e9ristiques",
      "metadata": {}
    },
    {
      "id": "124e6d34",
      "cell_type": "code",
      "metadata": {},
      "execution_count": null,
      "source": "# Cr\u00e9ation d'un graphique interactif\nfig = make_subplots(rows=2, cols=2, subplot_titles=(\n    '\u00c2ge par cluster', 'Consommation par cluster',\n    'Nombre d'appels par cluster', 'Volume de donn\u00e9es par cluster'\n))\n\n# Ajout des traces\nfig.add_trace(go.Box(y=df['age'], x=df['cluster'], name='\u00c2ge'), row=1, col=1)\nfig.add_trace(go.Box(y=df['montant_consommation'], x=df['cluster'], name='Consommation'), row=1, col=2)\nfig.add_trace(go.Box(y=df['nombre_appels'], x=df['cluster'], name='Appels'), row=2, col=1)\nfig.add_trace(go.Box(y=df['volume_data'], x=df['cluster'], name='Data'), row=2, col=2)\n\n# Mise \u00e0 jour du layout\nfig.update_layout(height=800, showlegend=False)\nfig.show()",
      "outputs": []
    },
    {
      "id": "6daaee54",
      "cell_type": "markdown",
      "source": "## 5. Analyse des offres commerciales par segment",
      "metadata": {}
    },
    {
      "id": "1778ddd3",
      "cell_type": "code",
      "metadata": {},
      "execution_count": null,
      "source": "# Cr\u00e9ation d'un graphique des offres commerciales\noffres = pd.DataFrame({\n    'cluster': range(5),\n    'offre': ['Offre Premium', 'Offre Standard', 'Offre \u00c9conomique', 'Offre Data', 'Offre Voice']\n})\n\nfig = px.bar(offres, x='cluster', y='offre', title='Offres commerciales par segment')\nfig.show()",
      "outputs": []
    }
  ]
}