{
 "cells": [
  {
   "cell_type": "markdown",
   "id": "c1d9886b",
   "metadata": {},
   "source": [
    "# Prétraitement des Données\n",
    "\n",
    "Ce notebook contient les étapes de prétraitement des données pour la segmentation des clients."
   ]
  },
  {
   "cell_type": "code",
   "execution_count": null,
   "id": "985a043b",
   "metadata": {},
   "outputs": [],
   "source": [
    "import pandas as pd\n",
    "import numpy as np\n",
    "import matplotlib.pyplot as plt\n",
    "import seaborn as sns\n",
    "from sklearn.preprocessing import StandardScaler\n",
    "from sklearn.impute import SimpleImputer"
   ]
  },
  {
   "cell_type": "code",
   "execution_count": null,
   "id": "0e0cea23",
   "metadata": {},
   "outputs": [],
   "source": [
    "# Chargement des données brutes\n",
    "df = pd.read_csv('../data/raw/donnees_clients.csv')\n",
    "\n",
    "# Affichage des premières lignes\n",
    "print(\"Aperçu des données :\")\n",
    "display(df.head())\n",
    "\n",
    "# Informations sur le dataset\n",
    "print(\"\n",
    "Informations sur le dataset :\")\n",
    "display(df.info())"
   ]
  },
  {
   "cell_type": "code",
   "execution_count": null,
   "id": "11a400f0",
   "metadata": {},
   "outputs": [],
   "source": [
    "# Analyse des valeurs manquantes\n",
    "missing_data = df.isnull().sum()\n",
    "missing_percentages = (missing_data / len(df)) * 100\n",
    "\n",
    "# Création d'un DataFrame pour l'affichage\n",
    "missing_df = pd.DataFrame({\n",
    "    'Valeurs manquantes': missing_data,\n",
    "    'Pourcentage': missing_percentages\n",
    "})\n",
    "\n",
    "# Affichage des résultats\n",
    "print(\"Analyse des valeurs manquantes :\")\n",
    "display(missing_df)\n",
    "\n",
    "# Visualisation des valeurs manquantes\n",
    "plt.figure(figsize=(10, 6))\n",
    "sns.heatmap(df.isnull(), yticklabels=False, cbar=False, cmap='viridis')\n",
    "plt.title('Carte des valeurs manquantes')\n",
    "plt.show()"
   ]
  },
  {
   "cell_type": "code",
   "execution_count": null,
   "id": "c079905f",
   "metadata": {},
   "outputs": [],
   "source": [
    "# Création de l'imputer\n",
    "imputer = SimpleImputer(strategy='mean')\n",
    "\n",
    "# Sélection des colonnes numériques\n",
    "numeric_columns = df.select_dtypes(include=[np.number]).columns\n",
    "\n",
    "# Imputation des valeurs manquantes\n",
    "df[numeric_columns] = imputer.fit_transform(df[numeric_columns])\n",
    "\n",
    "# Vérification qu'il n'y a plus de valeurs manquantes\n",
    "print(\"Vérification des valeurs manquantes après imputation :\")\n",
    "display(df.isnull().sum())"
   ]
  },
  {
   "cell_type": "code",
   "execution_count": null,
   "id": "9ccd9f3d",
   "metadata": {},
   "outputs": [],
   "source": [
    "# Création du scaler\n",
    "scaler = StandardScaler()\n",
    "\n",
    "# Normalisation des données\n",
    "df_scaled = pd.DataFrame(\n",
    "    scaler.fit_transform(df[numeric_columns]),\n",
    "    columns=numeric_columns\n",
    ")\n",
    "\n",
    "# Affichage des statistiques avant et après normalisation\n",
    "print(\"Statistiques avant normalisation :\")\n",
    "display(df[numeric_columns].describe())\n",
    "\n",
    "print(\"\n",
    "Statistiques après normalisation :\")\n",
    "display(df_scaled.describe())"
   ]
  },
  {
   "cell_type": "code",
   "execution_count": null,
   "id": "94def0fe",
   "metadata": {},
   "outputs": [],
   "source": [
    "# Sauvegarde des données prétraitées\n",
    "df_scaled.to_csv('../data/processed/donnees_pretraitees.csv', index=False)\n",
    "print(\"Données prétraitées sauvegardées avec succès !\")"
   ]
  }
 ],
 "metadata": {},
 "nbformat": 4,
 "nbformat_minor": 5
}
